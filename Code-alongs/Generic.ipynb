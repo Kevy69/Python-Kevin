{
 "cells": [
  {
   "cell_type": "markdown",
   "metadata": {},
   "source": [
    "# Code along - input-output"
   ]
  },
  {
   "cell_type": "code",
   "execution_count": 17,
   "metadata": {},
   "outputs": [
    {
     "name": "stdout",
     "output_type": "stream",
     "text": [
      "Epoch: 0: 40000.0\n",
      "Epoch: 1: 20000.0\n",
      "Epoch: 2: 10000.0\n",
      "Epoch: 3: 5000.0\n",
      "Epoch: 4: 2500.0\n",
      "Epoch: 5: 1250.0\n",
      "Epoch: 6: 625.0\n",
      "Epoch: 7: 312.5\n",
      "Epoch: 8: 156.25\n",
      "Epoch: 9: 78.125\n",
      "Birbss remaining 78.125\n"
     ]
    }
   ],
   "source": [
    "Birbs = 80000\n",
    "\n",
    "for Epoch in range(10):\n",
    "    Birbs = Birbs / 2\n",
    "    print(f\"Epoch: {Epoch}: {Birbs}\")\n",
    "    \n",
    "print(f\"Birbs remaining {Birbs}\")"
   ]
  },
  {
   "cell_type": "code",
   "execution_count": null,
   "metadata": {},
   "outputs": [],
   "source": []
  }
 ],
 "metadata": {
  "kernelspec": {
   "display_name": "Python 3.9.13 64-bit",
   "language": "python",
   "name": "python3"
  },
  "language_info": {
   "codemirror_mode": {
    "name": "ipython",
    "version": 3
   },
   "file_extension": ".py",
   "mimetype": "text/x-python",
   "name": "python",
   "nbconvert_exporter": "python",
   "pygments_lexer": "ipython3",
   "version": "3.9.13"
  },
  "orig_nbformat": 4,
  "vscode": {
   "interpreter": {
    "hash": "a2e6baf65b4912df534866df4a24f335b0ddd2a79686966292e6a89b41752c6e"
   }
  }
 },
 "nbformat": 4,
 "nbformat_minor": 2
}
