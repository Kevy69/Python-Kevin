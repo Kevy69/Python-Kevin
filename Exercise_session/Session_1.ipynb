{
 "cells": [
  {
   "cell_type": "markdown",
   "metadata": {},
   "source": [
    "# Exercise session 1"
   ]
  },
  {
   "cell_type": "markdown",
   "metadata": {},
   "source": [
    "## Exercise 00-3\n",
    "\n",
    "Formula: \n",
    "$$accuracy = \\frac{TP+TN}{TP+TN+FP+FN}$$ "
   ]
  },
  {
   "cell_type": "code",
   "execution_count": 1,
   "metadata": {},
   "outputs": [
    {
     "name": "stdout",
     "output_type": "stream",
     "text": [
      "Accuracy of this fire model: 0.987\n"
     ]
    }
   ],
   "source": [
    "\n",
    "\n",
    "true_positive = 2\n",
    "false_positive = 2\n",
    "false_negative = 11\n",
    "true_negative = 985\n",
    "\n",
    "accuracy = (true_positive+true_negative)/(true_positive+true_negative+false_positive+false_negative)\n",
    "\n",
    "print(f\"Accuracy of this fire model: {accuracy}\")\n",
    "\n",
    "# is this a good model?"
   ]
  },
  {
   "cell_type": "markdown",
   "metadata": {},
   "source": [
    "## Exercise 00-5\n",
    "\n",
    "Formula \n",
    "$$d = \\sqrt{(x_1-x_2)^2 + (y_1-y_2)^2}$$"
   ]
  },
  {
   "cell_type": "code",
   "execution_count": 9,
   "metadata": {},
   "outputs": [
    {
     "name": "stdout",
     "output_type": "stream",
     "text": [
      "Distance between [3, 5] and [-2, 4] is 5.10 distance units\n"
     ]
    }
   ],
   "source": [
    "import math\n",
    "\n",
    "point1 = [3,5]\n",
    "point2 = [-2,4]\n",
    "\n",
    "distance = math.sqrt((point1[0]-point2[0])**2 + (point1[1]-point2[1])**2)\n",
    "print(f\"Distance between {point1} and {point2} is {distance:.2f} distance units\")"
   ]
  },
  {
   "cell_type": "code",
   "execution_count": 3,
   "metadata": {},
   "outputs": [
    {
     "ename": "TypeError",
     "evalue": "randint() got an unexpected keyword argument 'size'",
     "output_type": "error",
     "traceback": [
      "\u001b[1;31m---------------------------------------------------------------------------\u001b[0m",
      "\u001b[1;31mTypeError\u001b[0m                                 Traceback (most recent call last)",
      "\u001b[1;32mc:\\Users\\Kevin\\Documents\\GitHub\\Python-course-AI22\\Exercise_session\\Session_1.ipynb Cell 6\u001b[0m in \u001b[0;36m<cell line: 3>\u001b[1;34m()\u001b[0m\n\u001b[0;32m      <a href='vscode-notebook-cell:/c%3A/Users/Kevin/Documents/GitHub/Python-course-AI22/Exercise_session/Session_1.ipynb#X10sZmlsZQ%3D%3D?line=0'>1</a>\u001b[0m \u001b[39mfrom\u001b[39;00m \u001b[39mnumpy\u001b[39;00m \u001b[39mimport\u001b[39;00m random\n\u001b[0;32m      <a href='vscode-notebook-cell:/c%3A/Users/Kevin/Documents/GitHub/Python-course-AI22/Exercise_session/Session_1.ipynb#X10sZmlsZQ%3D%3D?line=1'>2</a>\u001b[0m \u001b[39mimport\u001b[39;00m \u001b[39mrandom\u001b[39;00m\n\u001b[1;32m----> <a href='vscode-notebook-cell:/c%3A/Users/Kevin/Documents/GitHub/Python-course-AI22/Exercise_session/Session_1.ipynb#X10sZmlsZQ%3D%3D?line=2'>3</a>\u001b[0m a \u001b[39m=\u001b[39m random\u001b[39m.\u001b[39;49mrandint(\u001b[39m1000\u001b[39;49m, size\u001b[39m=\u001b[39;49m(\u001b[39m50000\u001b[39;49m, \u001b[39m2\u001b[39;49m))\n\u001b[0;32m      <a href='vscode-notebook-cell:/c%3A/Users/Kevin/Documents/GitHub/Python-course-AI22/Exercise_session/Session_1.ipynb#X10sZmlsZQ%3D%3D?line=4'>5</a>\u001b[0m \u001b[39mprint\u001b[39m(a)\n",
      "\u001b[1;31mTypeError\u001b[0m: randint() got an unexpected keyword argument 'size'"
     ]
    }
   ],
   "source": []
  },
  {
   "cell_type": "markdown",
   "metadata": {},
   "source": [
    "## 1-3\n",
    "\n",
    "Valid angle:\n",
    "- positive\n",
    "- $\\alpha + \\beta + \\gamma = 180$\n",
    "\n",
    "Check if one angle is 90 degrees"
   ]
  },
  {
   "cell_type": "code",
   "execution_count": 22,
   "metadata": {},
   "outputs": [
    {
     "name": "stdout",
     "output_type": "stream",
     "text": [
      "['30', '80', '70']\n"
     ]
    }
   ],
   "source": [
    "angles = input(\"Ange tre vinklar separerade med mellanslag: \")\n",
    "\n",
    "#angles = \"30 60 90\"\n",
    "print(angles.split())\n",
    "\n",
    "# angles.split() -> gives a list of strings\n",
    "# angle -> gets value of each list item (strings)\n",
    "# float(angle) -> type converts each string element to decimal number\n",
    "angles = [float(angle) for angle in angles.split()]\n",
    "\n",
    "if sum(angles) != 180:\n",
    "    print(\"Vinkelsumman ej 180\")\n",
    "\n",
    "for angle in angles:\n",
    "    if not 0 <= angle <= 180:\n",
    "        print(\"Vinkeln är inte mellan 0 och 180\")\n",
    "\n",
    "    if angle == 90:\n",
    "        print(\"Rätvinklig\")"
   ]
  }
 ],
 "metadata": {
  "kernelspec": {
   "display_name": "Python 3.9.13 ('Python-Kevin-lhVHWTt1')",
   "language": "python",
   "name": "python3"
  },
  "language_info": {
   "codemirror_mode": {
    "name": "ipython",
    "version": 3
   },
   "file_extension": ".py",
   "mimetype": "text/x-python",
   "name": "python",
   "nbconvert_exporter": "python",
   "pygments_lexer": "ipython3",
   "version": "3.9.13"
  },
  "orig_nbformat": 4,
  "vscode": {
   "interpreter": {
    "hash": "9b94f72e08d2b433a36b1fed9e2c1f347b51b2be0a5899152018984daff942f0"
   }
  }
 },
 "nbformat": 4,
 "nbformat_minor": 2
}
