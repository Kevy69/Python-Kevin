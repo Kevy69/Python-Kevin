{
 "cells": [
  {
   "cell_type": "code",
   "execution_count": null,
   "metadata": {},
   "outputs": [],
   "source": []
  }
 ],
 "metadata": {
  "kernelspec": {
   "display_name": "Python 3.9.13 ('Python-Kevin-lhVHWTt1')",
   "language": "python",
   "name": "python3"
  },
  "language_info": {
   "name": "python",
   "version": "3.9.13"
  },
  "orig_nbformat": 4,
  "vscode": {
   "interpreter": {
    "hash": "9b94f72e08d2b433a36b1fed9e2c1f347b51b2be0a5899152018984daff942f0"
   }
  }
 },
 "nbformat": 4,
 "nbformat_minor": 2
}
